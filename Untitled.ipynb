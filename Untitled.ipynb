{
 "cells": [
  {
   "cell_type": "code",
   "execution_count": 1,
   "metadata": {
    "collapsed": true
   },
   "outputs": [],
   "source": [
    "# -*- coding:utf-8 -*-\n",
    "# Filename: viterbi.py\n",
    "# Author：hankcs\n",
    "# Date: 2014-05-13 下午8:51\n",
    " \n",
    "states = ('Rainy', 'Sunny')\n",
    " \n",
    "observations = ('walk', 'shop', 'clean')\n",
    " \n",
    "start_probability = {'Rainy': 0.6, 'Sunny': 0.4}\n",
    " \n",
    "transition_probability = {\n",
    "    'Rainy' : {'Rainy': 0.7, 'Sunny': 0.3},\n",
    "    'Sunny' : {'Rainy': 0.4, 'Sunny': 0.6},\n",
    "    }\n",
    " \n",
    "emission_probability = {\n",
    "    'Rainy' : {'walk': 0.1, 'shop': 0.4, 'clean': 0.5},\n",
    "    'Sunny' : {'walk': 0.6, 'shop': 0.3, 'clean': 0.1},\n",
    "}\n",
    " "
   ]
  },
  {
   "cell_type": "code",
   "execution_count": 2,
   "metadata": {
    "collapsed": true
   },
   "outputs": [],
   "source": [
    "# 打印路径概率表\n",
    "def print_dptable(V):\n",
    "    print \"    \",\n",
    "    for i in range(len(V)): print \"%7d\" % i,\n",
    "    print\n",
    " \n",
    "    for y in V[0].keys():\n",
    "        print \"%.5s: \" % y,\n",
    "        for t in range(len(V)):\n",
    "            print \"%.7s\" % (\"%f\" % V[t][y]),\n",
    "        print\n",
    " \n",
    " "
   ]
  },
  {
   "cell_type": "code",
   "execution_count": 3,
   "metadata": {
    "collapsed": true
   },
   "outputs": [],
   "source": [
    "def viterbi(obs, states, start_p, trans_p, emit_p):\n",
    "    \"\"\"\n",
    " \n",
    "    :param obs:观测序列\n",
    "    :param states:隐状态\n",
    "    :param start_p:初始概率（隐状态）\n",
    "    :param trans_p:转移概率（隐状态）\n",
    "    :param emit_p: 发射概率 （隐状态表现为显状态的概率）\n",
    "    :return:\n",
    "    \"\"\"\n",
    "    # 路径概率表 V[时间][隐状态] = 概率\n",
    "    V = [{}]\n",
    "    # 一个中间变量，代表当前状态是哪个隐状态\n",
    "    path = {}\n",
    " \n",
    "    # 初始化初始状态 (t == 0)\n",
    "    for y in states:\n",
    "        V[0][y] = start_p[y] * emit_p[y][obs[0]]\n",
    "        path[y] = [y]\n",
    " \n",
    "    # 对 t > 0 跑一遍维特比算法\n",
    "    for t in range(1, len(obs)):\n",
    "        V.append({})\n",
    "        newpath = {}\n",
    " \n",
    "        for y in states:\n",
    "            # 概率 隐状态 =    前状态是y0的概率 * y0转移到y的概率 * y表现为当前状态的概率\n",
    "            (prob, state) = max([(V[t - 1][y0] * trans_p[y0][y] * emit_p[y][obs[t]], y0) for y0 in states])\n",
    "            # 记录最大概率\n",
    "            V[t][y] = prob\n",
    "            # 记录路径\n",
    "            newpath[y] = path[state] + [y]\n",
    " \n",
    "        # 不需要保留旧路径\n",
    "        path = newpath\n",
    " \n",
    "    print_dptable(V)\n",
    "    (prob, state) = max([(V[len(obs) - 1][y], y) for y in states])\n",
    "    return (prob, path[state])\n",
    " "
   ]
  },
  {
   "cell_type": "code",
   "execution_count": 4,
   "metadata": {
    "collapsed": true
   },
   "outputs": [],
   "source": [
    "def example():\n",
    "    return viterbi(observations,\n",
    "                   states,\n",
    "                   start_probability,\n",
    "                   transition_probability,\n",
    "                   emission_probability)\n",
    " "
   ]
  },
  {
   "cell_type": "code",
   "execution_count": 5,
   "metadata": {
    "collapsed": false
   },
   "outputs": [
    {
     "name": "stdout",
     "output_type": "stream",
     "text": [
      "           0       1       2\n",
      "Rainy:  0.06000 0.03840 0.01344\n",
      "Sunny:  0.24000 0.04320 0.00259\n",
      "(0.01344, ['Sunny', 'Rainy', 'Rainy'])\n"
     ]
    }
   ],
   "source": [
    "print example()"
   ]
  },
  {
   "cell_type": "code",
   "execution_count": 1,
   "metadata": {
    "collapsed": true
   },
   "outputs": [],
   "source": [
    "# -*- coding:utf-8 -*-\n",
    "\n",
    "states = ('Rainy', 'Sunny')\n",
    " \n",
    "observations = ('walk', 'shop', 'clean')\n",
    " \n",
    "start_probability = {'Rainy': 0.6, 'Sunny': 0.4}\n",
    " \n",
    "transition_probability = {\n",
    "    'Rainy' : {'Rainy': 0.7, 'Sunny': 0.3},\n",
    "    'Sunny' : {'Rainy': 0.4, 'Sunny': 0.6},\n",
    "    }\n",
    " \n",
    "emission_probability = {\n",
    "    'Rainy' : {'walk': 0.1, 'shop': 0.4, 'clean': 0.5},\n",
    "    'Sunny' : {'walk': 0.6, 'shop': 0.3, 'clean': 0.1},\n",
    "}"
   ]
  },
  {
   "cell_type": "code",
   "execution_count": 8,
   "metadata": {
    "collapsed": true
   },
   "outputs": [],
   "source": [
    "'''\n",
    "    :states obs  star_p tran_p  emis_p\n",
    "    :p(r|obs[i])=p(obs[i]|r)p(r)/p(obs[i]) p(s|obs[i])\n",
    "    :day1 = max [ p(r|obs[0]) p(r|obs[0]) ]\n",
    "    :day2 = max [ p(r|obs[1])*day1* p(r|obs[1]) ]\n",
    "'''\n",
    "def viterbi(obs,states,start_p,tran_p,emit_p):\n",
    "    pre = [{}]\n",
    "    path = {}\n",
    "    for y in states:\n",
    "        pre[0][y] = start_p[y] * emit_p[y][obs[0]]\n",
    "        path[y] = [y]\n",
    "    return pre"
   ]
  },
  {
   "cell_type": "code",
   "execution_count": 9,
   "metadata": {
    "collapsed": false
   },
   "outputs": [
    {
     "name": "stdout",
     "output_type": "stream",
     "text": [
      "[{'Rainy': 0.06, 'Sunny': 0.24}]\n"
     ]
    }
   ],
   "source": [
    "print viterbi(observations,states,start_probability,transition_probability,emission_probability)"
   ]
  },
  {
   "cell_type": "code",
   "execution_count": null,
   "metadata": {
    "collapsed": true
   },
   "outputs": [],
   "source": []
  },
  {
   "cell_type": "code",
   "execution_count": null,
   "metadata": {
    "collapsed": true
   },
   "outputs": [],
   "source": []
  }
 ],
 "metadata": {
  "kernelspec": {
   "display_name": "Python 2",
   "language": "python",
   "name": "python2"
  },
  "language_info": {
   "codemirror_mode": {
    "name": "ipython",
    "version": 2
   },
   "file_extension": ".py",
   "mimetype": "text/x-python",
   "name": "python",
   "nbconvert_exporter": "python",
   "pygments_lexer": "ipython2",
   "version": "2.7.13"
  }
 },
 "nbformat": 4,
 "nbformat_minor": 2
}
