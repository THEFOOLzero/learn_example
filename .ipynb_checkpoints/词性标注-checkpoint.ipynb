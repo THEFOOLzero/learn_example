{
 "cells": [
  {
   "cell_type": "code",
   "execution_count": 46,
   "metadata": {
    "collapsed": false
   },
   "outputs": [
    {
     "name": "stdout",
     "output_type": "stream",
     "text": [
      "[nltk_data] Downloading package brown to /home/thefool/nltk_data...\n",
      "[nltk_data]   Package brown is already up-to-date!\n"
     ]
    },
    {
     "data": {
      "text/plain": [
       "True"
      ]
     },
     "execution_count": 46,
     "metadata": {},
     "output_type": "execute_result"
    }
   ],
   "source": [
    "import nltk\n",
    "import sys\n",
    "from nltk.corpus import brown\n",
    "from __future__ import print_function\n",
    "nltk.download('brown')"
   ]
  },
  {
   "cell_type": "code",
   "execution_count": 47,
   "metadata": {
    "collapsed": false
   },
   "outputs": [],
   "source": [
    "brown_tags_words = []\n",
    "for sent in brown.tagged_sents():\n",
    "    brown_tags_words.append((\"START\",\"START\"))\n",
    "    brown_tags_words.extend([(tag[:2],word) for (word,tag) in sent])\n",
    "    brown_tags_words.append((\"END\",\"END\"))"
   ]
  },
  {
   "cell_type": "code",
   "execution_count": 48,
   "metadata": {
    "collapsed": true
   },
   "outputs": [],
   "source": [
    "#loop corpus\n",
    "cfd_tagwords = nltk.ConditionalFreqDist(brown_tags_words)\n",
    "cpd_tagwords = nltk.ConditionalProbDist(cfd_tagwords,nltk.MLEProbDist)"
   ]
  },
  {
   "cell_type": "code",
   "execution_count": 49,
   "metadata": {
    "collapsed": false
   },
   "outputs": [
    {
     "name": "stdout",
     "output_type": "stream",
     "text": [
      "the probability of an adjective (JJ) being 'new' is 0.0147234491763\n",
      "the probability of an verb (VB) being 'duck' is 6.04271335094e-05\n"
     ]
    }
   ],
   "source": [
    "print(\"the probability of an adjective (JJ) being 'new' is\",cpd_tagwords[\"JJ\"].prob(\"new\"))\n",
    "print(\"the probability of an verb (VB) being 'duck' is\",cpd_tagwords[\"VB\"].prob(\"duck\"))"
   ]
  },
  {
   "cell_type": "code",
   "execution_count": 50,
   "metadata": {
    "collapsed": true
   },
   "outputs": [],
   "source": [
    "brown_tags = [tag for (tag,word) in brown_tags_words]"
   ]
  },
  {
   "cell_type": "code",
   "execution_count": 51,
   "metadata": {
    "collapsed": false
   },
   "outputs": [],
   "source": [
    "# count(t{i-1} ti)\n",
    "#bigram的意思是 前后两个一组，联在一起\n",
    "cfd_tags = nltk.ConditionalFreqDist(nltk.bigrams(brown_tags))\n",
    "#p(ti|t{i-1})\n",
    "cpd_tags = nltk.ConditionalProbDist(cfd_tags,nltk.MLEProbDist)"
   ]
  },
  {
   "cell_type": "code",
   "execution_count": 52,
   "metadata": {
    "collapsed": false
   },
   "outputs": [
    {
     "name": "stdout",
     "output_type": "stream",
     "text": [
      "if we have just seen 'DT',the probability of 'NN' is 0.505772252203\n",
      "if we have just seen 'VB',the probability of 'JJ' is 0.0344348336527\n",
      "if we have just seen 'VB',the probability of 'NN' is 0.10970977711\n"
     ]
    }
   ],
   "source": [
    "print(\"if we have just seen 'DT',the probability of 'NN' is\",cpd_tags[\"DT\"].prob(\"NN\"))\n",
    "print(\"if we have just seen 'VB',the probability of 'JJ' is\",cpd_tags[\"VB\"].prob(\"JJ\"))\n",
    "print(\"if we have just seen 'VB',the probability of 'NN' is\",cpd_tags[\"VB\"].prob(\"NN\"))"
   ]
  },
  {
   "cell_type": "code",
   "execution_count": 53,
   "metadata": {
    "collapsed": false
   },
   "outputs": [
    {
     "name": "stdout",
     "output_type": "stream",
     "text": [
      "the probability of the tag sequence 'START PP VB TO VB END' for 'I want to race' is 1.08177664612e-14\n"
     ]
    }
   ],
   "source": [
    "prob_tagsequence = cpd_tags[\"START\"].prob(\"PP\")*cpd_tagwords[\"PP\"].prob(\"I\")*\\\n",
    "    cpd_tags[\"PP\"].prob(\"VB\")*cpd_tagwords[\"VB\"].prob(\"want\")*\\\n",
    "    cpd_tags[\"VB\"].prob(\"TO\")*cpd_tagwords[\"TO\"].prob(\"to\")*\\\n",
    "    cpd_tags[\"TO\"].prob(\"VB\")*cpd_tagwords[\"VB\"].prob(\"race\")*\\\n",
    "    cpd_tags[\"VB\"].prob(\"END\")\n",
    "                \n",
    "print(\"the probability of the tag sequence 'START PP VB TO VB END' for 'I want to race' is\",prob_tagsequence)"
   ]
  },
  {
   "cell_type": "code",
   "execution_count": 54,
   "metadata": {
    "collapsed": true
   },
   "outputs": [],
   "source": [
    "distinct_tags = set(brown_tags)"
   ]
  },
  {
   "cell_type": "code",
   "execution_count": 55,
   "metadata": {
    "collapsed": false
   },
   "outputs": [],
   "source": [
    "sentence = [\"I\",\"want\",\"to\",\"race\"]\n",
    "sentlen = len(sentence)"
   ]
  },
  {
   "cell_type": "code",
   "execution_count": 56,
   "metadata": {
    "collapsed": true
   },
   "outputs": [],
   "source": [
    "viterbi = []"
   ]
  },
  {
   "cell_type": "code",
   "execution_count": 57,
   "metadata": {
    "collapsed": true
   },
   "outputs": [],
   "source": [
    "backpointer = []"
   ]
  },
  {
   "cell_type": "code",
   "execution_count": 58,
   "metadata": {
    "collapsed": false
   },
   "outputs": [
    {
     "name": "stdout",
     "output_type": "stream",
     "text": [
      "{u'DO': 0.0, u'BE': 0.0, u'WD': 0.0, u'WQ': 0.0, u'FW': 0.0, u'IN': 0.0, u'HV': 0.0, u'VB': 0.0, u\"''\": 0.0, u')-': 0.0, u'WR': 0.0, u'JJ': 0.0, u'WP': 0.0, u'DT': 0.0, u',-': 0.0, u'NI': 3.3324520848931064e-07, u'PP': 0.014930900689060006, u'RP': 0.0, u'.-': 0.0, u'NN': 1.0580313619573935e-06, u')': 0.0, u'(': 0.0, u'*': 0.0, u',': 0.0, u'.': 0.0, u'TO': 0.0, u'RB': 0.0, u'NP': 1.7319067623793952e-06, u'RN': 0.0, u':': 0.0, u'PN': 0.0, u'``': 0.0, u'AB': 0.0, 'END': 0.0, u'CC': 0.0, u'CD': 0.0, u'*-': 0.0, u'AT': 0.0, u'(-': 0.0, u'CS': 0.0, u'NR': 0.0, u'MD': 0.0, u':-': 0.0, u\"'\": 0.0, u'AP': 0.0, u'--': 0.0, u'OD': 0.0, u'UH': 0.0, u'QL': 0.0, u'EX': 0.0}\n",
      "{u'DO': 'START', u'BE': 'START', u'WD': 'START', u'WQ': 'START', u'FW': 'START', u'IN': 'START', u'HV': 'START', u'VB': 'START', u\"''\": 'START', u')-': 'START', u'WR': 'START', u'JJ': 'START', u'WP': 'START', u'DT': 'START', u',-': 'START', u'NI': 'START', u'PP': 'START', u'RP': 'START', u'.-': 'START', u'NN': 'START', u')': 'START', u'(': 'START', u'*': 'START', u',': 'START', u'.': 'START', u'TO': 'START', u'RB': 'START', u'NP': 'START', u'RN': 'START', u':': 'START', u'PN': 'START', u'``': 'START', u'AB': 'START', 'END': 'START', u'CC': 'START', u'CD': 'START', u'*-': 'START', u'AT': 'START', u'(-': 'START', u'CS': 'START', u'NR': 'START', u'MD': 'START', u':-': 'START', u\"'\": 'START', u'AP': 'START', u'--': 'START', u'OD': 'START', u'UH': 'START', u'QL': 'START', u'EX': 'START'}\n"
     ]
    }
   ],
   "source": [
    "first_viterbi = {}\n",
    "first_backpointer = {}\n",
    "for tag in distinct_tags:\n",
    "    if tag == \"START\": continue\n",
    "    first_viterbi[tag] = cpd_tags[\"START\"].prob(tag)*cpd_tagwords[tag].prob(sentence[0])\n",
    "    first_backpointer[tag] = \"START\"\n",
    "print(first_viterbi)\n",
    "print(first_backpointer)"
   ]
  },
  {
   "cell_type": "code",
   "execution_count": 59,
   "metadata": {
    "collapsed": true
   },
   "outputs": [],
   "source": [
    "viterbi.append(first_viterbi)\n",
    "backpointer.append(first_backpointer)"
   ]
  },
  {
   "cell_type": "code",
   "execution_count": 60,
   "metadata": {
    "collapsed": false
   },
   "outputs": [
    {
     "name": "stdout",
     "output_type": "stream",
     "text": [
      "Word 'I' current best two-tag sequence: START PP\n"
     ]
    }
   ],
   "source": [
    "currbest = max(first_viterbi.keys(),key = lambda tag:first_viterbi[tag])\n",
    "print (\"Word\",\"'\"+sentence[0]+\"'\",\"current best two-tag sequence:\",first_backpointer[currbest],currbest)"
   ]
  },
  {
   "cell_type": "code",
   "execution_count": 61,
   "metadata": {
    "collapsed": false
   },
   "outputs": [
    {
     "name": "stdout",
     "output_type": "stream",
     "text": [
      "Word 'want' current best two-tag sequence: PP VB\n",
      "Word 'to' current best two-tag sequence: VB TO\n",
      "Word 'race' current best two-tag sequence: IN NN\n"
     ]
    }
   ],
   "source": [
    "for wordindex in range(1,sentlen):\n",
    "    this_viterbi = {}\n",
    "    this_backpointer = {}\n",
    "    prev_viterbi = viterbi[-1]\n",
    "    \n",
    "    for tag in distinct_tags:\n",
    "        if tag ==\"START\": continue\n",
    "            \n",
    "        best_previous = max(prev_viterbi.keys(),\n",
    "                           key = lambda prevtag:prev_viterbi[prevtag]*cpd_tags[prevtag].prob(tag)*cpd_tagwords[tag].prob(sentence[wordindex]))\n",
    "        \n",
    "        this_viterbi[tag] = prev_viterbi[best_previous]*cpd_tags[best_previous].prob(tag)*cpd_tagwords[tag].prob(sentence[wordindex])\n",
    "        \n",
    "        this_backpointer[tag] = best_previous\n",
    "        \n",
    "    currbest = max(this_viterbi.keys(),key = lambda tag: this_viterbi[tag])\n",
    "    print(\"Word\",\"'\"+sentence[wordindex]+\"'\",\"current best two-tag sequence:\",this_backpointer[currbest],currbest)\n",
    "        \n",
    "    viterbi.append(this_viterbi)\n",
    "    backpointer.append(this_backpointer)"
   ]
  },
  {
   "cell_type": "code",
   "execution_count": 62,
   "metadata": {
    "collapsed": false
   },
   "outputs": [],
   "source": [
    "prev_viterbi= viterbi[-1]\n",
    "best_previous = max(prev_viterbi.keys(),\n",
    "                   key = lambda prevtag: prev_viterbi[prevtag]*cpd_tags[prevtag].prob(\"END\"))\n",
    "best_tagsequece = [\"END\",best_previous]\n",
    "\n",
    "backpointer.reverse()"
   ]
  },
  {
   "cell_type": "code",
   "execution_count": 63,
   "metadata": {
    "collapsed": true
   },
   "outputs": [],
   "source": [
    "current_best_tag = best_previous\n",
    "for bp in backpointer:\n",
    "    best_tagsequece.append(bp[current_best_tag])\n",
    "    current_best_tag = bp[current_best_tag]"
   ]
  },
  {
   "cell_type": "code",
   "execution_count": 64,
   "metadata": {
    "collapsed": false
   },
   "outputs": [
    {
     "name": "stdout",
     "output_type": "stream",
     "text": [
      "the sentence was: I want to race \n",
      "\n",
      "the bast tag sequence is START PP VB IN NN END \n",
      "\n",
      "the probability of the best tag sequence is 1.08177664612e-14\n"
     ]
    }
   ],
   "source": [
    "best_tagsequece.reverse()\n",
    "print(\"the sentence was:\",end = \" \")\n",
    "for w in sentence: print(w,end = \" \")\n",
    "print(\"\\n\")\n",
    "print(\"the bast tag sequence is\",end = \" \")\n",
    "for t in best_tagsequece: print(t,end = \" \")\n",
    "print(\"\\n\")\n",
    "print(\"the probability of the best tag sequence is\",prob_tagsequence)"
   ]
  },
  {
   "cell_type": "code",
   "execution_count": null,
   "metadata": {
    "collapsed": true
   },
   "outputs": [],
   "source": []
  }
 ],
 "metadata": {
  "kernelspec": {
   "display_name": "Python 2",
   "language": "python",
   "name": "python2"
  },
  "language_info": {
   "codemirror_mode": {
    "name": "ipython",
    "version": 2
   },
   "file_extension": ".py",
   "mimetype": "text/x-python",
   "name": "python",
   "nbconvert_exporter": "python",
   "pygments_lexer": "ipython2",
   "version": "2.7.13"
  }
 },
 "nbformat": 4,
 "nbformat_minor": 2
}
